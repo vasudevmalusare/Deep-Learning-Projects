{
  "nbformat": 4,
  "nbformat_minor": 0,
  "metadata": {
    "colab": {
      "provenance": []
    },
    "kernelspec": {
      "name": "python3",
      "display_name": "Python 3"
    },
    "language_info": {
      "name": "python"
    }
  },
  "cells": [
    {
      "cell_type": "code",
      "execution_count": 1,
      "metadata": {
        "id": "AozD0OOw648z"
      },
      "outputs": [],
      "source": [
        "import tensorflow as tf\n",
        "import keras\n",
        "from keras import datasets, layers, models\n",
        "import matplotlib.pyplot as plt\n",
        "import numpy as np"
      ]
    },
    {
      "cell_type": "code",
      "source": [
        "(X_train, y_train), (X_test,y_test) = datasets.cifar10.load_data()\n",
        "X_train.shape"
      ],
      "metadata": {
        "colab": {
          "base_uri": "https://localhost:8080/"
        },
        "id": "Jhbo3bc27PQr",
        "outputId": "4396513b-892a-47b2-a73e-a00191c360c3"
      },
      "execution_count": 4,
      "outputs": [
        {
          "output_type": "stream",
          "name": "stdout",
          "text": [
            "Downloading data from https://www.cs.toronto.edu/~kriz/cifar-10-python.tar.gz\n",
            "170498071/170498071 [==============================] - 2s 0us/step\n"
          ]
        },
        {
          "output_type": "execute_result",
          "data": {
            "text/plain": [
              "(50000, 32, 32, 3)"
            ]
          },
          "metadata": {},
          "execution_count": 4
        }
      ]
    },
    {
      "cell_type": "code",
      "source": [
        "y_train[6:11]"
      ],
      "metadata": {
        "colab": {
          "base_uri": "https://localhost:8080/"
        },
        "id": "f2u7rvtO7VIQ",
        "outputId": "2f181b26-575c-4f4e-cca4-6374c2955a5a"
      },
      "execution_count": 7,
      "outputs": [
        {
          "output_type": "execute_result",
          "data": {
            "text/plain": [
              "array([[2],\n",
              "       [7],\n",
              "       [8],\n",
              "       [3],\n",
              "       [4]], dtype=uint8)"
            ]
          },
          "metadata": {},
          "execution_count": 7
        }
      ]
    },
    {
      "cell_type": "code",
      "source": [
        "y_train = y_train.reshape(-1,)\n",
        "y_train[6:11]"
      ],
      "metadata": {
        "colab": {
          "base_uri": "https://localhost:8080/"
        },
        "id": "PxSABT3a7tEq",
        "outputId": "0875675a-380e-4d20-ce4c-751a7d308243"
      },
      "execution_count": 10,
      "outputs": [
        {
          "output_type": "execute_result",
          "data": {
            "text/plain": [
              "array([2, 7, 8, 3, 4], dtype=uint8)"
            ]
          },
          "metadata": {},
          "execution_count": 10
        }
      ]
    },
    {
      "cell_type": "code",
      "source": [
        "y_test = y_test.reshape(-1,)"
      ],
      "metadata": {
        "id": "dnSw5U_576k5"
      },
      "execution_count": 9,
      "outputs": []
    },
    {
      "cell_type": "code",
      "source": [
        "classes = [\"airplane\",\"automobile\",\"bird\",\"cat\",\"deer\",\"dog\",\"frog\",\"horse\",\"ship\",\"truck\"]"
      ],
      "metadata": {
        "id": "-nRFspfU79jr"
      },
      "execution_count": 11,
      "outputs": []
    },
    {
      "cell_type": "code",
      "source": [
        "\n",
        "#Let's plot some images to see what they are\n",
        "def plot_sample(X, y, index):\n",
        "    plt.figure(figsize = (15,2))\n",
        "    plt.imshow(X[index])\n",
        "    plt.xlabel(classes[y[index]])"
      ],
      "metadata": {
        "id": "djHlI0KJ8INt"
      },
      "execution_count": 12,
      "outputs": []
    },
    {
      "cell_type": "code",
      "source": [
        "plot_sample(X_train, y_train, 1)"
      ],
      "metadata": {
        "colab": {
          "base_uri": "https://localhost:8080/",
          "height": 237
        },
        "id": "hYCYwPq-8X83",
        "outputId": "ea28186d-eb69-400a-8b09-4a3bc7df3bb6"
      },
      "execution_count": 14,
      "outputs": [
        {
          "output_type": "display_data",
          "data": {
            "text/plain": [
              "<Figure size 1500x200 with 1 Axes>"
            ],
            "image/png": "[encoded data removed]"
          },
          "metadata": {}
        }
      ]
    },
    {
      "cell_type": "code",
      "source": [
        "plot_sample(X_train, y_train, 6)"
      ],
      "metadata": {
        "colab": {
          "base_uri": "https://localhost:8080/",
          "height": 237
        },
        "id": "mIeWF7uy8cBo",
        "outputId": "2a365fce-7724-40a0-be66-b9b504636fa6"
      },
      "execution_count": 18,
      "outputs": [
        {
          "output_type": "display_data",
          "data": {
            "text/plain": [
              "<Figure size 1500x200 with 1 Axes>"
            ],
            "image/png": "[encoded data removed]"
          },
          "metadata": {}
        }
      ]
    },
    {
      "cell_type": "code",
      "source": [
        "#Normalize the images to a number from 0 to 1.\n",
        "#Image has 3 channels (R,G,B) and each value in the channel can range from 0 to 255.\n",
        "#Hence to normalize in 0-->1 range, we need to divide it by 255\n",
        "#Normalizing the training data\n",
        "X_train = X_train / 255.0\n",
        "X_test = X_test / 255.0"
      ],
      "metadata": {
        "id": "G8TClh1U8iy1"
      },
      "execution_count": 19,
      "outputs": []
    },
    {
      "cell_type": "code",
      "source": [
        "#Build simple artificial neural network for image classification\n",
        "ann = models.Sequential([\n",
        "        layers.Flatten(input_shape=(32,32,3)),\n",
        "        layers.Dense(3000, activation='relu'),\n",
        "        layers.Dense(1000, activation='relu'),\n",
        "        layers.Dense(10, activation='softmax')\n",
        "    ])\n",
        "\n",
        "ann.compile(optimizer='adam',\n",
        "              loss='sparse_categorical_crossentropy',\n",
        "              metrics=['accuracy'])\n",
        "\n",
        "ann.fit(X_train, y_train, epochs=5)"
      ],
      "metadata": {
        "colab": {
          "base_uri": "https://localhost:8080/"
        },
        "id": "bUVll1fW9N7Q",
        "outputId": "08dccc45-7d30-4aff-841d-b6938631cdb2"
      },
      "execution_count": 20,
      "outputs": [
        {
          "output_type": "stream",
          "name": "stdout",
          "text": [
            "Epoch 1/5\n",
            "1563/1563 [==============================] - 378s 239ms/step - loss: 1.9130 - accuracy: 0.3231\n",
            "Epoch 2/5\n",
            "1563/1563 [==============================] - 373s 239ms/step - loss: 1.6691 - accuracy: 0.4025\n",
            "Epoch 3/5\n",
            "1563/1563 [==============================] - 369s 236ms/step - loss: 1.5879 - accuracy: 0.4337\n",
            "Epoch 4/5\n",
            "1563/1563 [==============================] - 397s 254ms/step - loss: 1.5353 - accuracy: 0.4506\n",
            "Epoch 5/5\n",
            "1563/1563 [==============================] - 380s 243ms/step - loss: 1.4985 - accuracy: 0.4629\n"
          ]
        },
        {
          "output_type": "execute_result",
          "data": {
            "text/plain": [
              "<keras.callbacks.History at 0x7f9a55279f60>"
            ]
          },
          "metadata": {},
          "execution_count": 20
        }
      ]
    },
    {
      "cell_type": "code",
      "source": [
        "from sklearn.metrics import confusion_matrix , classification_report\n",
        "import numpy as np\n",
        "y_pred = ann.predict(X_test)\n",
        "y_pred_classes = [np.argmax(element) for element in y_pred]\n",
        "\n",
        "print(\"Classification Report: \\n\", classification_report(y_test, y_pred_classes))"
      ],
      "metadata": {
        "colab": {
          "base_uri": "https://localhost:8080/"
        },
        "id": "-c2tivRc9acj",
        "outputId": "befbee55-e804-411d-8c38-dfc5585f355c"
      },
      "execution_count": 21,
      "outputs": [
        {
          "output_type": "stream",
          "name": "stdout",
          "text": [
            "313/313 [==============================] - 13s 39ms/step\n",
            "Classification Report: \n",
            "               precision    recall  f1-score   support\n",
            "\n",
            "           0       0.56      0.50      0.52      1000\n",
            "           1       0.53      0.67      0.59      1000\n",
            "           2       0.34      0.32      0.33      1000\n",
            "           3       0.29      0.29      0.29      1000\n",
            "           4       0.52      0.26      0.34      1000\n",
            "           5       0.35      0.45      0.39      1000\n",
            "           6       0.46      0.56      0.50      1000\n",
            "           7       0.52      0.53      0.53      1000\n",
            "           8       0.65      0.48      0.55      1000\n",
            "           9       0.46      0.52      0.49      1000\n",
            "\n",
            "    accuracy                           0.46     10000\n",
            "   macro avg       0.47      0.46      0.45     10000\n",
            "weighted avg       0.47      0.46      0.45     10000\n",
            "\n"
          ]
        }
      ]
    },
    {
      "cell_type": "code",
      "source": [
        "#Now let us build a convolutional neural network to train our images\n",
        "cnn = models.Sequential([\n",
        "    layers.Conv2D(filters=32, kernel_size=(3, 3), activation='relu', input_shape=(32, 32, 3)),\n",
        "    layers.MaxPooling2D((2, 2)),\n",
        "\n",
        "    layers.Conv2D(filters=64, kernel_size=(3, 3), activation='relu'),\n",
        "    layers.MaxPooling2D((2, 2)),\n",
        "\n",
        "    layers.Flatten(),\n",
        "    layers.Dense(64, activation='relu'),\n",
        "    layers.Dense(10, activation='softmax')\n",
        "])"
      ],
      "metadata": {
        "id": "Ojqidkd5GB7E"
      },
      "execution_count": 22,
      "outputs": []
    },
    {
      "cell_type": "code",
      "source": [
        "cnn.compile(optimizer='adam',\n",
        "              loss='sparse_categorical_crossentropy',\n",
        "              metrics=['accuracy'])"
      ],
      "metadata": {
        "id": "CYV6HzpLGNa5"
      },
      "execution_count": 23,
      "outputs": []
    },
    {
      "cell_type": "code",
      "source": [
        "cnn.fit(X_train, y_train, epochs=10)"
      ],
      "metadata": {
        "colab": {
          "base_uri": "https://localhost:8080/"
        },
        "id": "T_TKoa0fGRvR",
        "outputId": "ace2c9e6-1c32-4f7e-b8c2-f705dfe3576e"
      },
      "execution_count": 24,
      "outputs": [
        {
          "output_type": "stream",
          "name": "stdout",
          "text": [
            "Epoch 1/10\n",
            "1563/1563 [==============================] - 79s 50ms/step - loss: 1.5073 - accuracy: 0.4558\n",
            "Epoch 2/10\n",
            "1563/1563 [==============================] - 82s 53ms/step - loss: 1.1552 - accuracy: 0.5935\n",
            "Epoch 3/10\n",
            "1563/1563 [==============================] - 77s 49ms/step - loss: 1.0152 - accuracy: 0.6470\n",
            "Epoch 4/10\n",
            "1563/1563 [==============================] - 76s 49ms/step - loss: 0.9337 - accuracy: 0.6762\n",
            "Epoch 5/10\n",
            "1563/1563 [==============================] - 77s 49ms/step - loss: 0.8721 - accuracy: 0.6975\n",
            "Epoch 6/10\n",
            "1563/1563 [==============================] - 75s 48ms/step - loss: 0.8150 - accuracy: 0.7181\n",
            "Epoch 7/10\n",
            "1563/1563 [==============================] - 75s 48ms/step - loss: 0.7777 - accuracy: 0.7291\n",
            "Epoch 8/10\n",
            "1563/1563 [==============================] - 73s 47ms/step - loss: 0.7391 - accuracy: 0.7439\n",
            "Epoch 9/10\n",
            "1563/1563 [==============================] - 77s 49ms/step - loss: 0.7019 - accuracy: 0.7569\n",
            "Epoch 10/10\n",
            "1563/1563 [==============================] - 76s 48ms/step - loss: 0.6671 - accuracy: 0.7669\n"
          ]
        },
        {
          "output_type": "execute_result",
          "data": {
            "text/plain": [
              "<keras.callbacks.History at 0x7f99fcad2500>"
            ]
          },
          "metadata": {},
          "execution_count": 24
        }
      ]
    },
    {
      "cell_type": "code",
      "source": [
        "cnn.evaluate(X_test,y_test)"
      ],
      "metadata": {
        "colab": {
          "base_uri": "https://localhost:8080/"
        },
        "id": "tR1f5ui5GUdA",
        "outputId": "5454eed8-7c53-4fbc-db83-72bf6cca568d"
      },
      "execution_count": 25,
      "outputs": [
        {
          "output_type": "stream",
          "name": "stdout",
          "text": [
            "313/313 [==============================] - 7s 22ms/step - loss: 0.9248 - accuracy: 0.6932\n"
          ]
        },
        {
          "output_type": "execute_result",
          "data": {
            "text/plain": [
              "[0.9248412847518921, 0.6931999921798706]"
            ]
          },
          "metadata": {},
          "execution_count": 25
        }
      ]
    },
    {
      "cell_type": "code",
      "source": [
        "y_pred = cnn.predict(X_test)\n",
        "y_pred[:5]"
      ],
      "metadata": {
        "colab": {
          "base_uri": "https://localhost:8080/"
        },
        "id": "yiAyKi0cJdPq",
        "outputId": "19f80293-5fb9-493c-b904-4f253fbe6013"
      },
      "execution_count": 26,
      "outputs": [
        {
          "output_type": "stream",
          "name": "stdout",
          "text": [
            "313/313 [==============================] - 11s 34ms/step\n"
          ]
        },
        {
          "output_type": "execute_result",
          "data": {
            "text/plain": [
              "array([[7.3463735e-03, 7.8001525e-05, 4.5310613e-02, 5.9889293e-01,\n",
              "        1.8543673e-03, 2.8417367e-01, 3.3980399e-02, 3.3543241e-04,\n",
              "        2.0923175e-02, 7.1051214e-03],\n",
              "       [1.7687080e-03, 1.6247692e-02, 4.4270064e-06, 2.9478031e-07,\n",
              "        2.0227537e-07, 3.9787085e-09, 2.4015147e-08, 1.8108731e-10,\n",
              "        9.8165512e-01, 3.2345456e-04],\n",
              "       [5.2393474e-02, 2.9901052e-01, 5.2552130e-03, 1.2812363e-03,\n",
              "        4.3116955e-04, 1.3998232e-04, 4.1169510e-04, 4.9692526e-04,\n",
              "        5.6310195e-01, 7.7477694e-02],\n",
              "       [9.4299090e-01, 2.5617264e-03, 9.1867521e-03, 3.4033375e-05,\n",
              "        1.4385038e-04, 3.1169276e-07, 1.9403760e-04, 4.2985162e-06,\n",
              "        4.4844422e-02, 3.9604267e-05],\n",
              "       [3.1697327e-06, 1.4470036e-05, 5.5341343e-03, 3.2416496e-02,\n",
              "        6.9791749e-02, 1.2190775e-02, 8.8000596e-01, 1.9057215e-05,\n",
              "        1.2238446e-05, 1.1950520e-05]], dtype=float32)"
            ]
          },
          "metadata": {},
          "execution_count": 26
        }
      ]
    },
    {
      "cell_type": "code",
      "source": [
        "y_classes = [np.argmax(element) for element in y_pred]\n",
        "y_classes[:5]"
      ],
      "metadata": {
        "colab": {
          "base_uri": "https://localhost:8080/"
        },
        "id": "DZrScvXhJjKo",
        "outputId": "5daf6528-8c2f-4c7c-f882-bf2651bf5f47"
      },
      "execution_count": 27,
      "outputs": [
        {
          "output_type": "execute_result",
          "data": {
            "text/plain": [
              "[3, 8, 8, 0, 6]"
            ]
          },
          "metadata": {},
          "execution_count": 27
        }
      ]
    },
    {
      "cell_type": "code",
      "source": [
        "y_test[:5]"
      ],
      "metadata": {
        "colab": {
          "base_uri": "https://localhost:8080/"
        },
        "id": "n-u1bo6HJorE",
        "outputId": "e67d4e4a-bc3b-49f7-9a6a-921c260c9f46"
      },
      "execution_count": 28,
      "outputs": [
        {
          "output_type": "execute_result",
          "data": {
            "text/plain": [
              "array([3, 8, 8, 0, 6], dtype=uint8)"
            ]
          },
          "metadata": {},
          "execution_count": 28
        }
      ]
    },
    {
      "cell_type": "code",
      "source": [
        "plot_sample(X_test, y_test,2)"
      ],
      "metadata": {
        "colab": {
          "base_uri": "https://localhost:8080/",
          "height": 237
        },
        "id": "NvBvZ6kbJrII",
        "outputId": "272472b5-8f71-46b5-ffb4-f55960719183"
      },
      "execution_count": 29,
      "outputs": [
        {
          "output_type": "display_data",
          "data": {
            "text/plain": [
              "<Figure size 1500x200 with 1 Axes>"
            ],
            "image/png": "[encoded data removed]"
          },
          "metadata": {}
        }
      ]
    },
    {
      "cell_type": "code",
      "source": [
        "classes[y_classes[2]]"
      ],
      "metadata": {
        "colab": {
          "base_uri": "https://localhost:8080/",
          "height": 36
        },
        "id": "8pfFsN5EJuSJ",
        "outputId": "e598a653-181b-4473-d303-e2a873049b90"
      },
      "execution_count": 30,
      "outputs": [
        {
          "output_type": "execute_result",
          "data": {
            "text/plain": [
              "'ship'"
            ],
            "application/vnd.google.colaboratory.intrinsic+json": {
              "type": "string"
            }
          },
          "metadata": {},
          "execution_count": 30
        }
      ]
    },
    {
      "cell_type": "code",
      "source": [],
      "metadata": {
        "id": "fKvcIEHXJxaT"
      },
      "execution_count": null,
      "outputs": []
    }
  ]
}